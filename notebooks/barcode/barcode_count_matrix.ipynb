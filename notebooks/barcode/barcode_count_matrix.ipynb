{
  "cells": [
    {
      "cell_type": "code",
      "execution_count": null,
      "metadata": {
        "collapsed": true
      },
      "outputs": [],
      "source": [
        "#### PUBS 2017 \n",
        "#### barcode analysis \n",
        "\n",
        "#### the purpose of this code was to analyze the distribution of barcodes in a deep mutation scanning experiment \n",
        "#### authors <jared.lumpe@ucsf.edu> <snow.naing@ucsf.edu> <christa.caggiano@ucsf.edu> "
      ]
    },
    {
      "cell_type": "markdown",
      "metadata": {},
      "source": [
        "# Instructions\n",
        "\n",
        "Before running, copy the files `allele_dic_with_WT.pkl`, `aminotonumber.pkl`, and `translate.pkl` to this directory."
      ]
    },
    {
      "cell_type": "markdown",
      "metadata": {},
      "source": [
        "### Load data"
      ]
    },
    {
      "cell_type": "code",
      "execution_count": null,
      "metadata": {
        "collapsed": true
      },
      "outputs": [],
      "source": [
        "# package to read pickles in and out \n",
        "\n",
        "import pickle"
      ]
    },
    {
      "cell_type": "markdown",
      "metadata": {},
      "source": [
        "### Barcodes"
      ]
    },
    {
      "cell_type": "code",
      "execution_count": null,
      "metadata": {},
      "outputs": [],
      "source": [
        "# opens the object using standard python i/o, calles it fobj for 'file object' since it is a file containing an object \n",
        "# uses the option 'rb' for opening the file as a read-only binary \n",
        "# 'r' because we do not want to risk overwriting the object on accident, since it will permanently change the file\n",
        "# 'b' for binary file, since some operating systems (mostly windows) will by default, read it a little differently\n",
        "# this makes the code able to run the same on all operating systems \n",
        "\n",
        "with open('allele_dic_with_WT.pkl', 'rb') as fobj:\n",
        "    barcodes = pickle.load(fobj)\n",
        "barcodes"
      ]
    },
    {
      "cell_type": "markdown",
      "metadata": {},
      "source": [
        "### AA ordering"
      ]
    },
    {
      "cell_type": "code",
      "execution_count": null,
      "metadata": {},
      "outputs": [],
      "source": [
        "# same as above\n",
        "\n",
        "with open('aminotonumber.pkl', 'rb') as fobj:\n",
        "    aa_to_index = pickle.load(fobj)\n",
        "    \n",
        "print(aa_to_index)"
      ]
    },
    {
      "cell_type": "code",
      "execution_count": null,
      "metadata": {
        "collapsed": true
      },
      "outputs": [],
      "source": [
        "# This code reverses the order of aa_to_index object that was loaded in above\n",
        "\n",
        "# this makes a list of nones the size of the length of the object \n",
        "# ie [None] * 5 = [None, None, None, None, None]\n",
        "aas_ordered = [None] * len(aa_to_index)\n",
        "\n",
        "for aa, i in aa_to_index.items():\n",
        "    assert aas_ordered[i] is None\n",
        "    aas_ordered[i] = aa\n",
        "\n",
        "assert None not in aas_ordered"
      ]
    },
    {
      "cell_type": "code",
      "execution_count": null,
      "metadata": {
        "collapsed": true
      },
      "outputs": [],
      "source": [
        "# here the file is opened as 'wb' which means it is writable \n",
        "# so we are purposely trying to overwrite this data structure with our ordered \n",
        "# amino acid list, that's the dump function going on here \n",
        "\n",
        "with open('aas_ordered.pkl', 'wb') as fobj:\n",
        "    pickle.dump(aas_ordered, fobj)"
      ]
    },
    {
      "cell_type": "markdown",
      "metadata": {},
      "source": [
        "### Genetic code"
      ]
    },
    {
      "cell_type": "code",
      "execution_count": null,
      "metadata": {
        "collapsed": true
      },
      "outputs": [],
      "source": [
        "# Load RNA version from file\n",
        "# also read-only binary \n",
        "\n",
        "with open('data/translate.pkl', 'rb') as fobj:\n",
        "    codon_to_aa = pickle.load(fobj)\n",
        "    "
      ]
    },
    {
      "cell_type": "code",
      "execution_count": null,
      "metadata": {
        "collapsed": true
      },
      "outputs": [],
      "source": [
        "# DNA version\n",
        "# this is essentially a fancy for loop (read from back) --- for each amino acido in the codon to AA dict, convert it to a codon \n",
        "# then for each of those codons, replace all the T's with U's \n",
        "\n",
        "dna_codon_to_aa = {codon.replace('U', 'T'): aa for codon, aa in codon_to_aa.items()}"
      ]
    },
    {
      "cell_type": "markdown",
      "metadata": {},
      "source": [
        "### Sequence"
      ]
    },
    {
      "cell_type": "code",
      "execution_count": null,
      "metadata": {
        "collapsed": true
      },
      "outputs": [],
      "source": [
        "# this simply reads in our wt aa sequence we got from daniel using the read propery of a file object in python\n",
        "\n",
        "with open('wt_seq.txt') as fobj:\n",
        "    wt_seq = fobj.read()"
      ]
    },
    {
      "cell_type": "code",
      "execution_count": null,
      "metadata": {
        "collapsed": true
      },
      "outputs": [],
      "source": [
        "# getting the number of residues in the wt sequence we were given \n",
        "\n",
        "prot_len = len(wt_seq)"
      ]
    },
    {
      "cell_type": "markdown",
      "metadata": {},
      "source": [
        "### Build matrix"
      ]
    },
    {
      "cell_type": "code",
      "execution_count": null,
      "metadata": {
        "collapsed": true
      },
      "outputs": [],
      "source": [
        "# numpy is a package that makes arrays/matrices, basically makes linear algebra possible \n",
        "\n",
        "import numpy as np"
      ]
    },
    {
      "cell_type": "code",
      "execution_count": null,
      "metadata": {
        "collapsed": true
      },
      "outputs": [],
      "source": [
        "# intializes an empty matrix that is the length of our protein seqeunce (num of rows) \n",
        "# by the total number of aa's (21 columns) \n",
        "# specifies this as being an array that can only be of integers (no decimals) \n",
        "# it's helpful to initialize the data structure with types, even though in python you don't have to, since we are iterating \n",
        "# over the values seen in our barcode counts, which we will anticipate to be only integers\n",
        "\n",
        "counts = np.zeros((prot_len + 1, 21), dtype=int)"
      ]
    },
    {
      "cell_type": "code",
      "execution_count": null,
      "metadata": {
        "collapsed": true
      },
      "outputs": [],
      "source": [
        "# for each residue # and codon in our barcode dict\n",
        "for res, codon in barcodes.values():\n",
        "    \n",
        "    # if it's the weird WT where it is a synomous variant skip it\n",
        "    if codon == 'WT':\n",
        "        # Skip wild-type\n",
        "        continue\n",
        "        \n",
        "    # otherwise get the amino acid from the codon \n",
        "    aa = dna_codon_to_aa[codon]\n",
        "    \n",
        "    # and the index of the amino acid \n",
        "    aa_index = aa_to_index[aa]\n",
        "    \n",
        "    # add one to the appropriate entry of our counts matrix given our aa index \n",
        "    counts[res - 1, aa_index] += 1  # res starts at 1"
      ]
    },
    {
      "cell_type": "code",
      "execution_count": null,
      "metadata": {},
      "outputs": [],
      "source": [
        "# Save matrix\n",
        "np.save('barcode_counts.npy', counts)"
      ]
    },
    {
      "cell_type": "markdown",
      "metadata": {},
      "source": [
        "# Find zero counts"
      ]
    },
    {
      "cell_type": "code",
      "execution_count": null,
      "metadata": {
        "collapsed": true
      },
      "outputs": [],
      "source": [
        "# for each residue, get the number of times it was not mutated- ex where amino acid was a synomous mutation \n",
        "\n",
        "zero_location = np.where(counts == 0)"
      ]
    },
    {
      "cell_type": "code",
      "execution_count": null,
      "metadata": {
        "collapsed": true
      },
      "outputs": [],
      "source": [
        "from collections import Counter\n",
        "\n",
        "\n",
        "num_zeros_by_aa = Counter(zero_location[1]) # number of zeros by amino acid types \n",
        "values = [(num_zeros_by_aa[i]) for i in range(1,len(num_zeros_by_aa))] # separates above tupule to just the values\n",
        "aminos= aas_ordered[1:] # uses the amino acid name for clarity \n"
      ]
    },
    {
      "cell_type": "code",
      "execution_count": null,
      "metadata": {},
      "outputs": [],
      "source": [
        "import seaborn # plotting library \n",
        "import matplotlib.pyplot as plt # needed to show plot inline \n",
        "%matplotlib inline\n",
        "\n",
        "# fancy plotting things \n",
        "seaborn.set_style(\"darkgrid\", {\"axes.facecolor\": \".9\"})\n",
        "plot = seaborn.barplot(aminos,values)\n",
        "plot.set_title(\"Number of zero mutation counts for each amino acid\")\n",
        "plot.set_ylabel(\"number of zero mutation counts\")\n",
        "plot.set_xlabel(\"amino acids\")\n",
        "plot"
      ]
    }
  ],
  "metadata": {
    "kernelspec": {
      "display_name": "Python 3",
      "language": "python",
      "name": "python3"
    },
    "language_info": {
      "codemirror_mode": {
        "name": "ipython",
        "version": 3
      },
      "file_extension": ".py",
      "mimetype": "text/x-python",
      "name": "python",
      "nbconvert_exporter": "python",
      "pygments_lexer": "ipython3",
      "version": "3.6.1"
    }
  },
  "nbformat": 4,
  "nbformat_minor": 2
}
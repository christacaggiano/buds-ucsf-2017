{
 "cells": [
  {
   "cell_type": "code",
   "execution_count": null,
   "metadata": {},
   "outputs": [],
   "source": [
    "!wget buds@derisilab105.ucsf.edu/data/buds/fastq/Undetermined_S0_L001_R1_001.fastq"
   ]
  },
  {
   "cell_type": "code",
   "execution_count": null,
   "metadata": {
    "collapsed": true
   },
   "outputs": [],
   "source": [
    "def readFastq(filename):\n",
    "    header = []\n",
    "    sequences = []\n",
    "    qualities = []\n",
    "    with open (filename) as fobj:\n",
    "        while True: \n",
    "            title = fobj.readline()\n",
    "            seq = fobj.readline().rstrip()\n",
    "            fobj.readline() #skip '+' line\n",
    "            qual = fobj.readline().rstrip()\n",
    "            if len(seq) == 0:\n",
    "                break\n",
    "                header.append(title)\n",
    "                sequences.append(seq)\n",
    "                qualities.append(qual)\n",
    "    return header, sequences, qualities\n",
    "\n",
    "heads, seqs, quals = readFastq('Undetermined_S0_L001_R1_001.fastq')    "
   ]
  },
  {
   "cell_type": "code",
   "execution_count": null,
   "metadata": {
    "collapsed": true
   },
   "outputs": [],
   "source": [
    "#Getting quality score by converting ASCII values to integers \n",
    "def phred33toQ(qual):\n",
    "    return ord(qual) - 33"
   ]
  },
  {
   "cell_type": "code",
   "execution_count": null,
   "metadata": {
    "collapsed": true
   },
   "outputs": [],
   "source": [
    "#Creating a histogram of quality scores\n",
    "def createHist(qualityStrings):\n",
    "    hist = [0] * 50 #change the number depending on the highest number of quality score\n",
    "    for qual in qualities:\n",
    "        for phred in qual:\n",
    "            q = phred33toQ(phred)\n",
    "            hist[q] += 1\n",
    "        return hist\n",
    "\n",
    "h = createHist(quals)"
   ]
  },
  {
   "cell_type": "code",
   "execution_count": null,
   "metadata": {},
   "outputs": [],
   "source": [
    "%matplotlib inline\n",
    "import matplotlib.pyplot as plt\n",
    "plt.bar(range(len(h)),h)\n",
    "plt.show()"
   ]
  },
  {
   "cell_type": "code",
   "execution_count": null,
   "metadata": {
    "collapsed": true
   },
   "outputs": [],
   "source": [
    "#Count number of bases \n",
    "import collections\n",
    "count = collections.Counter()\n",
    "for seq in seqs:\n",
    "    count.update(seq)\n",
    "print (count)"
   ]
  }
 ],
 "metadata": {
  "kernelspec": {
   "display_name": "Python 2",
   "language": "python",
   "name": "python2"
  },
  "language_info": {
   "codemirror_mode": {
    "name": "ipython",
    "version": 2
   },
   "file_extension": ".py",
   "mimetype": "text/x-python",
   "name": "python",
   "nbconvert_exporter": "python",
   "pygments_lexer": "ipython2",
   "version": "2.7.13"
  }
 },
 "nbformat": 4,
 "nbformat_minor": 2
}
